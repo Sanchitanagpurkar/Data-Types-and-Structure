{
  "nbformat": 4,
  "nbformat_minor": 0,
  "metadata": {
    "colab": {
      "provenance": []
    },
    "kernelspec": {
      "name": "python3",
      "display_name": "Python 3"
    },
    "language_info": {
      "name": "python"
    }
  },
  "cells": [
    {
      "cell_type": "code",
      "execution_count": null,
      "metadata": {
        "id": "_j6J94q1cwjB"
      },
      "outputs": [],
      "source": []
    },
    {
      "cell_type": "markdown",
      "source": [
        "# Data Types and Structures Questions\n",
        "\n",
        "1. What are data structures, and why are they important?\n",
        "  - Data structures are ways of organizing and storing data in memory to perform operations efficiently. They are important because they enable optimal data access, processing, and modification — essential for algorithms and applications.\n",
        "\n",
        "2. Explain the difference between mutable and immutable data types with examples.\n",
        "  - (a) Mutable: Can be changed after creation.\n",
        "\n",
        "          Examples: list, dict, set\n",
        "\n",
        "    (b) Immutable: Cannot be changed after creation.\n",
        "\n",
        "          Examples: int, float, str, tuple\n",
        "\n",
        "3.  What are the main differences between lists and tuples in Python?\n",
        "  -   \n",
        "  \n",
        "  (a) Mutability:Lists are mutable, meaning their elements can be changed    after creation (you can add, remove, or update items). In contrast, tuples are immutable, so once they are created, their elements cannot be modified.\n",
        "\n",
        "  (b) Syntax:Lists are defined using square brackets, like [1, 2, 3], while tuples are defined using parentheses, like (1, 2, 3).\n",
        "\n",
        "  (c) Performance:Tuples are generally faster than lists when it comes to iteration and access, because they are immutable and fixed in size. Lists are slower because they support dynamic operations such as insertion, deletion, and resizing.\n",
        "  \n",
        "  (d) Use Case:Lists are best used when you need a collection of items that may change during program execution. Tuples are suitable when you want a fixed collection of items that should not be modified, such as coordinates, configurations, or constant data.\n",
        "\n",
        "4.  Describe how dictionaries store data\n",
        "  - Dictionaries store key-value pairs in a hash table. The key is hashed to an index, and the value is stored at that index for fast retrieval.\n",
        "\n",
        "5. Why might you use a set instead of a list in Python?\n",
        "  - Sets:\n",
        "\n",
        "    Eliminate duplicates automatically.\n",
        "\n",
        "    Offer faster lookup (O(1) average).\n",
        "\n",
        "    Use when:\n",
        "\n",
        "    You need unique elements.\n",
        "\n",
        "    Membership testing is frequent.\n",
        "\n",
        "6. What is a string in Python, and how is it different from a list?\n",
        "  - String: Immutable sequence of characters.\n",
        "\n",
        "    List: Mutable sequence of any type (including characters).\n",
        "\n",
        "    Difference: Strings cannot be changed; lists can be.\n",
        "\n",
        "7. How do tuples ensure data integrity in Python?\n",
        "  - Tuples are immutable, so once created, they can't be altered. This ensures data consistency when passed around functions.\n",
        "\n",
        "8. What is a hash table, and how does it relate to dictionaries in Python?\n",
        "  - A hash table is a data structure that maps keys to values using a hash function. Python dictionaries use hash tables under the hood for fast access.\n",
        "\n",
        "\n",
        "9. Can lists contain different data types in Python?\n",
        "  - Yes. Python lists can contain integers, strings, other lists, etc.\n",
        "\n",
        "10. Explain why strings are immutable in Python\n",
        "  - For security, thread-safety, and performance (e.g., string interning). Any operation creates a new string rather than modifying the original.\n",
        "\n",
        "11. What advantages do dictionaries offer over lists for certain tasks?\n",
        "  - Faster lookup by keys.\n",
        "\n",
        "      Meaningful access using key names.\n",
        "\n",
        "      Better structure for associative data.\n",
        "\n",
        "12. How do sets handle duplicate values in Python\n",
        " - Sets automatically discard duplicate values.\n",
        "\n",
        "13. Describe a scenario where using a tuple would be preferable over a list?\n",
        "  - Use a tuple when:\n",
        "\n",
        "      You want immutable, fixed data.\n",
        "\n",
        "      As dictionary keys.\n",
        "\n",
        "      For performance benefits.\n",
        "\n",
        "14. How does the “in” keyword work differently for lists and dictionaries?\n",
        "  - In list: Checks if element exists.\n",
        "\n",
        "      In dict: Checks if key exists (not value).\n",
        "\n",
        "15. Can you modify the elements of a tuple? Explain why or why not\n",
        "  - No. Tuples are immutable. You can't change, add, or remove items.\n",
        "\n",
        "16. What is a nested dictionary, and give an example of its use case?\n",
        " - A dictionary with other dictionaries as values:\n",
        "  example:\n",
        "\n",
        "  data = {\n",
        "  \"person1\": {\"name\": \"Alice\", \"age\": 25},\n",
        "  \"person2\": {\"name\": \"Bob\", \"age\": 30}\n",
        "}\n",
        "\n",
        "\n",
        "17. Describe the time complexity of accessing elements in a dictionary\n",
        "  - O(1) on average (thanks to hashing).\n",
        "\n",
        "18. In what situations are lists preferred over dictionaries?\n",
        "  - You need to maintain order.\n",
        "\n",
        "      You care about position/index-based access.\n",
        "\n",
        "      You want duplicate values.\n",
        "\n",
        "\n",
        "19. Why are dictionaries considered unordered, and how does that affect data retrieval?\n",
        "  - Before Python 3.7, dicts didn't preserve order. Although they now do, conceptually they're still accessed by key, not position.\n",
        "\n",
        "20. Explain the difference between a list and a dictionary in terms of data retrieval\n",
        "  - List: Access by index → data[0]\n",
        "\n",
        "      Dict: Access by key → data[\"name\"]\n",
        "\n",
        "\n",
        "\n",
        "\n",
        "\n",
        "\n",
        "\n",
        "\n",
        "\n",
        "\n",
        "\n",
        "\n",
        "\n",
        "\n",
        "\n",
        "\n"
      ],
      "metadata": {
        "id": "UsG5YzNVgbD3"
      }
    },
    {
      "cell_type": "code",
      "source": [
        "# Practical Questions\n",
        "\n",
        "# 1. Write a code to create a string with your name and print it.\n",
        "\n",
        "name = \"Sanchita\"\n",
        "print(name)"
      ],
      "metadata": {
        "colab": {
          "base_uri": "https://localhost:8080/"
        },
        "id": "aZ33yNqrrZod",
        "outputId": "12e9e8f8-f72f-4aa5-8a78-eaf42061990b"
      },
      "execution_count": 1,
      "outputs": [
        {
          "output_type": "stream",
          "name": "stdout",
          "text": [
            "Sanchita\n"
          ]
        }
      ]
    },
    {
      "cell_type": "code",
      "source": [
        "# 2. Write a code to find the length of the string \"Hello World\"\n",
        "\n",
        "print(len(\"Hello World\"))"
      ],
      "metadata": {
        "colab": {
          "base_uri": "https://localhost:8080/"
        },
        "id": "OkZBRwuEK-t_",
        "outputId": "dd9242b3-cbf9-4bad-880a-bc70dabf0a52"
      },
      "execution_count": 2,
      "outputs": [
        {
          "output_type": "stream",
          "name": "stdout",
          "text": [
            "11\n"
          ]
        }
      ]
    },
    {
      "cell_type": "code",
      "source": [
        "# 3. Write a code to slice the first 3 characters from the string \"Python Programming\"\n",
        "\n",
        "print(\"Python Programming\"[:3])\n"
      ],
      "metadata": {
        "colab": {
          "base_uri": "https://localhost:8080/"
        },
        "id": "i7gfS_YgLW0D",
        "outputId": "9a4347ac-1ed8-45fd-e0d6-6165d8b87cab"
      },
      "execution_count": 3,
      "outputs": [
        {
          "output_type": "stream",
          "name": "stdout",
          "text": [
            "Pyt\n"
          ]
        }
      ]
    },
    {
      "cell_type": "code",
      "source": [
        "# 4. Write a code to convert the string \"hello\" to uppercase\n",
        "\n",
        "print(\"hello\".upper())"
      ],
      "metadata": {
        "colab": {
          "base_uri": "https://localhost:8080/"
        },
        "id": "zyGZDZWUL-I0",
        "outputId": "c69930eb-cde8-4a00-d502-7d2ce43be3e7"
      },
      "execution_count": 4,
      "outputs": [
        {
          "output_type": "stream",
          "name": "stdout",
          "text": [
            "HELLO\n"
          ]
        }
      ]
    },
    {
      "cell_type": "code",
      "source": [
        "# 5.  Write a code to replace the word \"apple\" with \"orange\" in the string \"I like apple\"\n",
        "\n",
        "print(\"I like apple\".replace(\"apple\", \"orange\"))\n"
      ],
      "metadata": {
        "colab": {
          "base_uri": "https://localhost:8080/"
        },
        "id": "WS8TV1FCMT3P",
        "outputId": "c66386d8-72a0-4437-c7b9-75b6489fb63e"
      },
      "execution_count": 6,
      "outputs": [
        {
          "output_type": "stream",
          "name": "stdout",
          "text": [
            "I like orange\n"
          ]
        }
      ]
    },
    {
      "cell_type": "code",
      "source": [
        "# 6.  Write a code to create a list with numbers 1 to 5 and print it\n",
        "\n",
        "print([1, 2, 3, 4, 5])\n"
      ],
      "metadata": {
        "colab": {
          "base_uri": "https://localhost:8080/"
        },
        "id": "Wq_EEF76MTzz",
        "outputId": "38dbcef9-9a15-414a-d026-d47fdb3ca859"
      },
      "execution_count": 7,
      "outputs": [
        {
          "output_type": "stream",
          "name": "stdout",
          "text": [
            "[1, 2, 3, 4, 5]\n"
          ]
        }
      ]
    },
    {
      "cell_type": "code",
      "source": [
        "# 7.  Write a code to append the number 10 to the list [1, 2, 3, 4]\n",
        "\n",
        "lst = [1, 2, 3, 4]\n",
        "lst.append(10)\n",
        "print(lst)\n"
      ],
      "metadata": {
        "colab": {
          "base_uri": "https://localhost:8080/"
        },
        "id": "IPpacoeXMTxg",
        "outputId": "8589db31-e60d-40f6-8652-f02835d18f62"
      },
      "execution_count": 8,
      "outputs": [
        {
          "output_type": "stream",
          "name": "stdout",
          "text": [
            "[1, 2, 3, 4, 10]\n"
          ]
        }
      ]
    },
    {
      "cell_type": "code",
      "source": [
        "# 8.  Write a code to remove the number 3 from the list [1, 2, 3, 4, 5]\n",
        "\n",
        "lst = [1, 2, 3, 4, 5]\n",
        "lst.remove(3)\n",
        "print(lst)\n"
      ],
      "metadata": {
        "colab": {
          "base_uri": "https://localhost:8080/"
        },
        "id": "FYizEf4cMTuo",
        "outputId": "2945274e-44f7-4acb-c768-641c0d89d12d"
      },
      "execution_count": 9,
      "outputs": [
        {
          "output_type": "stream",
          "name": "stdout",
          "text": [
            "[1, 2, 4, 5]\n"
          ]
        }
      ]
    },
    {
      "cell_type": "code",
      "source": [
        "# 9.  Write a code to access the second element in the list ['a', 'b', 'c', 'd']\n",
        "\n",
        "print(['a', 'b', 'c', 'd'][1])\n"
      ],
      "metadata": {
        "colab": {
          "base_uri": "https://localhost:8080/"
        },
        "id": "6yLLEndoMTsH",
        "outputId": "32ec96dd-fc0f-47d3-9fae-4ede0cfe7e13"
      },
      "execution_count": 10,
      "outputs": [
        {
          "output_type": "stream",
          "name": "stdout",
          "text": [
            "b\n"
          ]
        }
      ]
    },
    {
      "cell_type": "code",
      "source": [
        "# 10.  Write a code to reverse the list [10, 20, 30, 40, 50].\n",
        "\n",
        "lst = [10, 20, 30, 40, 50]\n",
        "lst.reverse()\n",
        "print(lst)\n"
      ],
      "metadata": {
        "colab": {
          "base_uri": "https://localhost:8080/"
        },
        "id": "ZDZpaNpPMTpn",
        "outputId": "021c776c-0d2e-41a7-da3e-0ddddd53738e"
      },
      "execution_count": 11,
      "outputs": [
        {
          "output_type": "stream",
          "name": "stdout",
          "text": [
            "[50, 40, 30, 20, 10]\n"
          ]
        }
      ]
    },
    {
      "cell_type": "code",
      "source": [
        "# 11. Write a code to create a tuple with the elements 100, 200, 300 and print it.\n",
        "\n",
        "print((100, 200, 300))\n"
      ],
      "metadata": {
        "colab": {
          "base_uri": "https://localhost:8080/"
        },
        "id": "Lx12mRw5MTnC",
        "outputId": "fb7c3c06-0aa1-4fc5-ad86-67acaf59bacd"
      },
      "execution_count": 12,
      "outputs": [
        {
          "output_type": "stream",
          "name": "stdout",
          "text": [
            "(100, 200, 300)\n"
          ]
        }
      ]
    },
    {
      "cell_type": "code",
      "source": [
        "# 12. Write a code to access the second-to-last element of the tuple ('red', 'green', 'blue', 'yellow').\n",
        "\n",
        "print(('red', 'green', 'blue', 'yellow')[-2])\n"
      ],
      "metadata": {
        "colab": {
          "base_uri": "https://localhost:8080/"
        },
        "id": "8qCLdSi5MTkK",
        "outputId": "bba00681-5ff1-4f1c-c525-449505f61fb7"
      },
      "execution_count": 13,
      "outputs": [
        {
          "output_type": "stream",
          "name": "stdout",
          "text": [
            "blue\n"
          ]
        }
      ]
    },
    {
      "cell_type": "code",
      "source": [
        "# 13. Write a code to find the minimum number in the tuple (10, 20, 5, 15).\n",
        "\n",
        "print(min((10, 20, 5, 15)))\n"
      ],
      "metadata": {
        "colab": {
          "base_uri": "https://localhost:8080/"
        },
        "id": "uYiq_YnWMTgs",
        "outputId": "142b255e-1a8d-46d3-ff79-ec2f224ebc02"
      },
      "execution_count": 14,
      "outputs": [
        {
          "output_type": "stream",
          "name": "stdout",
          "text": [
            "5\n"
          ]
        }
      ]
    },
    {
      "cell_type": "code",
      "source": [
        "# 14. Write a code to find the index of the element \"cat\" in the tuple ('dog', 'cat', 'rabbit').\n",
        "\n",
        "print(('dog', 'cat', 'rabbit').index(\"cat\"))\n"
      ],
      "metadata": {
        "colab": {
          "base_uri": "https://localhost:8080/"
        },
        "id": "seeKLIr8MTdS",
        "outputId": "e31e9bc1-f050-4ee5-82ff-f4c9836ffbdb"
      },
      "execution_count": 15,
      "outputs": [
        {
          "output_type": "stream",
          "name": "stdout",
          "text": [
            "1\n"
          ]
        }
      ]
    },
    {
      "cell_type": "code",
      "source": [
        "# 15. Write a code to create a tuple containing three different fruits and check if \"kiwi\" is in it.\n",
        "\n",
        "fruits = ('apple', 'banana', 'cherry')\n",
        "print(\"kiwi\" in fruits)\n"
      ],
      "metadata": {
        "colab": {
          "base_uri": "https://localhost:8080/"
        },
        "id": "GaThi7J0MTR1",
        "outputId": "90986d62-65ca-47e1-a2d9-ebd92a8993c3"
      },
      "execution_count": 16,
      "outputs": [
        {
          "output_type": "stream",
          "name": "stdout",
          "text": [
            "False\n"
          ]
        }
      ]
    },
    {
      "cell_type": "code",
      "source": [
        "# 16. Write a code to create a set with the elements 'a', 'b', 'c' and print it.\n",
        "\n",
        "print(set(['a', 'b', 'c']))"
      ],
      "metadata": {
        "colab": {
          "base_uri": "https://localhost:8080/"
        },
        "id": "muaCod-MMTGs",
        "outputId": "5da35f8e-0e4d-41c6-b248-f8af2c05cff2"
      },
      "execution_count": 17,
      "outputs": [
        {
          "output_type": "stream",
          "name": "stdout",
          "text": [
            "{'b', 'a', 'c'}\n"
          ]
        }
      ]
    },
    {
      "cell_type": "code",
      "source": [
        " # 17. Write a code to clear all elements from the set {1, 2, 3, 4, 5}.\n",
        "\n",
        "s = {1, 2, 3, 4, 5}\n",
        "s.clear()\n",
        "print(s)"
      ],
      "metadata": {
        "colab": {
          "base_uri": "https://localhost:8080/"
        },
        "id": "nlXql-pkOoZJ",
        "outputId": "cd48bec6-7e11-45f5-a977-fef52de63385"
      },
      "execution_count": 18,
      "outputs": [
        {
          "output_type": "stream",
          "name": "stdout",
          "text": [
            "set()\n"
          ]
        }
      ]
    },
    {
      "cell_type": "code",
      "source": [
        "# 18. Write a code to remove the element 4 from the set {1, 2, 3, 4}.\n",
        "\n",
        "s = {1, 2, 3, 4}\n",
        "s.remove(4)\n",
        "print(s)\n"
      ],
      "metadata": {
        "colab": {
          "base_uri": "https://localhost:8080/"
        },
        "id": "JMLIQCIhOoMz",
        "outputId": "e6f1c680-3808-4f9a-844f-b92ecbc354db"
      },
      "execution_count": 19,
      "outputs": [
        {
          "output_type": "stream",
          "name": "stdout",
          "text": [
            "{1, 2, 3}\n"
          ]
        }
      ]
    },
    {
      "cell_type": "code",
      "source": [
        "# 19. Write a code to find the union of two sets {1, 2, 3} and {3, 4, 5}.\n",
        "\n",
        "print({1, 2, 3} | {3, 4, 5})\n"
      ],
      "metadata": {
        "colab": {
          "base_uri": "https://localhost:8080/"
        },
        "id": "1yrsknkOOoAk",
        "outputId": "91a0d482-a9e0-439d-f53a-c52a8b0a1738"
      },
      "execution_count": 20,
      "outputs": [
        {
          "output_type": "stream",
          "name": "stdout",
          "text": [
            "{1, 2, 3, 4, 5}\n"
          ]
        }
      ]
    },
    {
      "cell_type": "code",
      "source": [
        "# 20. Write a code to find the intersection of two sets {1, 2, 3} and {2, 3, 4}.\n",
        "\n",
        "print({1, 2, 3} & {2, 3, 4})"
      ],
      "metadata": {
        "colab": {
          "base_uri": "https://localhost:8080/"
        },
        "id": "Ss8KYlGbOn1e",
        "outputId": "99a4fe3e-401a-4768-fb1c-39c937b31776"
      },
      "execution_count": 21,
      "outputs": [
        {
          "output_type": "stream",
          "name": "stdout",
          "text": [
            "{2, 3}\n"
          ]
        }
      ]
    },
    {
      "cell_type": "code",
      "source": [
        "# 21. Write a code to create a dictionary with the keys \"name\", \"age\", and \"city\", and print it.\n",
        "\n",
        "d = {\"name\": \"Alice\", \"age\": 25, \"city\": \"Paris\"}\n",
        "print(d)\n"
      ],
      "metadata": {
        "colab": {
          "base_uri": "https://localhost:8080/"
        },
        "id": "_2rwS2HiOnp9",
        "outputId": "1e10dac2-fff3-411f-f7f8-c4579c8f3883"
      },
      "execution_count": 22,
      "outputs": [
        {
          "output_type": "stream",
          "name": "stdout",
          "text": [
            "{'name': 'Alice', 'age': 25, 'city': 'Paris'}\n"
          ]
        }
      ]
    },
    {
      "cell_type": "code",
      "source": [
        "# 22. Write a code to add a new key-value pair \"country\": \"USA\" to the dictionary {'name': 'John', 'age': 25}.\n",
        "\n",
        "d = {'name': 'John', 'age': 25}\n",
        "d[\"country\"] = \"USA\"\n",
        "print(d)\n"
      ],
      "metadata": {
        "colab": {
          "base_uri": "https://localhost:8080/"
        },
        "id": "_qnAtk0-Onec",
        "outputId": "7b17759a-e9b0-4e79-8ac4-8b769a448389"
      },
      "execution_count": 23,
      "outputs": [
        {
          "output_type": "stream",
          "name": "stdout",
          "text": [
            "{'name': 'John', 'age': 25, 'country': 'USA'}\n"
          ]
        }
      ]
    },
    {
      "cell_type": "code",
      "source": [
        "# 23. Write a code to access the value associated with the key \"name\" in the dictionary {'name': 'Alice', 'age': 30}.\n",
        "\n",
        "d = {'name': 'Alice', 'age': 30}\n",
        "print(d[\"name\"])\n"
      ],
      "metadata": {
        "colab": {
          "base_uri": "https://localhost:8080/"
        },
        "id": "o7blS4k-OnS5",
        "outputId": "52f76410-03b4-45a3-c221-63c7baba09c6"
      },
      "execution_count": 25,
      "outputs": [
        {
          "output_type": "stream",
          "name": "stdout",
          "text": [
            "Alice\n"
          ]
        }
      ]
    },
    {
      "cell_type": "code",
      "source": [
        "# 24. Write a code to remove the key \"age\" from the dictionary {'name': 'Bob', 'age': 22, 'city': 'New York'}.\n",
        "\n",
        "d = {'name': 'Bob', 'age': 22, 'city': 'New York'}\n",
        "del d[\"age\"]\n",
        "print(d)\n"
      ],
      "metadata": {
        "colab": {
          "base_uri": "https://localhost:8080/"
        },
        "id": "8rhFxIY4OnH4",
        "outputId": "4c730817-4a6c-45d3-da57-874d4037c0a3"
      },
      "execution_count": 26,
      "outputs": [
        {
          "output_type": "stream",
          "name": "stdout",
          "text": [
            "{'name': 'Bob', 'city': 'New York'}\n"
          ]
        }
      ]
    },
    {
      "cell_type": "code",
      "source": [
        "# 25. Write a code to check if the key \"city\" exists in the dictionary {'name': 'Alice', 'city': 'Paris'}.\n",
        "\n",
        "d = {'name': 'Alice', 'city': 'Paris'}\n",
        "print(\"city\" in d)\n"
      ],
      "metadata": {
        "colab": {
          "base_uri": "https://localhost:8080/"
        },
        "id": "SWHYLu0NOm8d",
        "outputId": "cf6a90dc-7bb2-4349-eed3-683e6a53b976"
      },
      "execution_count": 27,
      "outputs": [
        {
          "output_type": "stream",
          "name": "stdout",
          "text": [
            "True\n"
          ]
        }
      ]
    },
    {
      "cell_type": "code",
      "source": [
        "# 26. Write a code to create a list, a tuple, and a dictionary, and print them all.\n",
        "\n",
        "print([1, 2], (3, 4), {\"a\": 5})\n"
      ],
      "metadata": {
        "colab": {
          "base_uri": "https://localhost:8080/"
        },
        "id": "w2xz6BDwOmxx",
        "outputId": "0d4849cd-044c-475b-cc15-738d0e4ad3fb"
      },
      "execution_count": 28,
      "outputs": [
        {
          "output_type": "stream",
          "name": "stdout",
          "text": [
            "[1, 2] (3, 4) {'a': 5}\n"
          ]
        }
      ]
    },
    {
      "cell_type": "code",
      "source": [
        "# 27. Write a code to create a list of 5 random numbers between 1 and 100, sort it in ascending order, and print the result.(replaced)\n",
        "\n",
        "import random\n",
        "lst = random.sample(range(1, 101), 5)\n",
        "lst.sort()\n",
        "print(lst)"
      ],
      "metadata": {
        "colab": {
          "base_uri": "https://localhost:8080/"
        },
        "id": "1yUiNfsXOmmc",
        "outputId": "ab805e40-e7bf-4b20-c2b8-81e63f14cfdc"
      },
      "execution_count": 29,
      "outputs": [
        {
          "output_type": "stream",
          "name": "stdout",
          "text": [
            "[15, 26, 48, 57, 88]\n"
          ]
        }
      ]
    },
    {
      "cell_type": "code",
      "source": [
        "# 28. Write a code to create a list with strings and print the element at the third index.\n",
        "\n",
        "lst = [\"apple\", \"banana\", \"cherry\", \"date\", \"fig\"]\n",
        "print(lst[3])\n"
      ],
      "metadata": {
        "colab": {
          "base_uri": "https://localhost:8080/"
        },
        "id": "-nUWQFjAOma_",
        "outputId": "7aa13362-bec3-43ca-ad3c-4db9e99c56e0"
      },
      "execution_count": 30,
      "outputs": [
        {
          "output_type": "stream",
          "name": "stdout",
          "text": [
            "date\n"
          ]
        }
      ]
    },
    {
      "cell_type": "code",
      "source": [
        "#  29. Write a code to combine two dictionaries into one and print the result.\n",
        "\n",
        "d1 = {'a': 1, 'b': 2}\n",
        "d2 = {'c': 3, 'd': 4}\n",
        "combined = {**d1, **d2}\n",
        "print(combined)\n"
      ],
      "metadata": {
        "colab": {
          "base_uri": "https://localhost:8080/"
        },
        "id": "NDbE_mOvOmOR",
        "outputId": "44adfefb-6827-41fa-956a-0fde6f21487b"
      },
      "execution_count": 31,
      "outputs": [
        {
          "output_type": "stream",
          "name": "stdout",
          "text": [
            "{'a': 1, 'b': 2, 'c': 3, 'd': 4}\n"
          ]
        }
      ]
    },
    {
      "cell_type": "code",
      "source": [
        "#  30. Write a code to convert a list of strings into a set.\n",
        "\n",
        "lst = [\"apple\", \"banana\", \"apple\"]\n",
        "print(set(lst))\n"
      ],
      "metadata": {
        "colab": {
          "base_uri": "https://localhost:8080/"
        },
        "id": "wDFPCN3hOl_6",
        "outputId": "3ab312d4-69a9-4e4a-a100-e09eb3dfbb34"
      },
      "execution_count": 32,
      "outputs": [
        {
          "output_type": "stream",
          "name": "stdout",
          "text": [
            "{'apple', 'banana'}\n"
          ]
        }
      ]
    }
  ]
}